{
 "cells": [
  {
   "cell_type": "code",
   "execution_count": 48,
   "metadata": {},
   "outputs": [],
   "source": [
    "from keras.preprocessing.sequence import pad_sequences\n",
    "from keras.layers import Embedding, LSTM, Dense\n",
    "from keras.preprocessing.text import Tokenizer\n",
    "from keras.callbacks import EarlyStopping\n",
    "from keras.models import Sequential\n",
    "import numpy as np\n",
    "from keras.utils import np_utils\n",
    "import re"
   ]
  },
  {
   "cell_type": "code",
   "execution_count": 57,
   "metadata": {},
   "outputs": [],
   "source": [
    "# count = 1\n",
    "\n",
    "# with open ('./europarl-corpus/train_small.txt', 'r') as f:\n",
    "#     if (count < 5000):\n",
    "#         train_eu = f.readline()\n",
    "#         count=count+1\n",
    "\n",
    "\n",
    "\n",
    "\n",
    "# # # concatenate all sentences in train_eu\n",
    "# # train_eu = train_eu.split('\\n')\n",
    "# # train_eu = ' '.join(train_eu)\n",
    "# # train_eu = train_eu.split('.')\n",
    "# # train_eu = ' '.join(train_eu)\n",
    "# # train_eu = train_eu.split(' ')\n",
    "# # train_eu = ' '.join(train_eu)\n",
    "# # remove punctuation from train_eu\n",
    "# train_eu = re.sub(r'[^\\w\\s]','',train_eu)\n",
    "\n",
    "# # select first 10000 sentences from train.europarl for training\n",
    "# # train_eu = train_eu.split('\\n')\n",
    "# # train_eu = train_eu[:100000]\n",
    "\n",
    "\n",
    "\n",
    "# # train_eu\n",
    "\n",
    "# # # store the first 10000 sentences in a variable\n",
    "# # train_eu = train_eu.split('\\n')\n",
    "# # train_eu = train_eu[:10000]\n",
    "\n",
    "# # train_eu\n",
    "\n",
    "# # # convert list to string\n",
    "# # train_eu = ' '.join(train_eu)\n",
    "\n",
    "\n",
    "# # store train_eu in a text file\n",
    "# with open ('./europarl-corpus/final_train.txt', 'w') as f:\n",
    "#     f.write(train_eu)\n",
    "\n",
    "# train_eu\n",
    "\n",
    "\n",
    "with open('./europarl-corpus/final_train.txt', 'r') as f:\n",
    "    train_eu = f.read()\n",
    "\n",
    "# select the first 10000 sentences from train_eu\n",
    "train_eu = train_eu.split('.')\n",
    "train_eu = train_eu[:10000]\n",
    "\n",
    "str = ''\n",
    "for i in train_eu:\n",
    "    str = str + i + '.'\n",
    "\n",
    "\n",
    "with open ('./europarl-corpus/final_train.txt', 'w') as f:\n",
    "    f.write(str)\n"
   ]
  },
  {
   "cell_type": "code",
   "execution_count": 36,
   "metadata": {},
   "outputs": [
    {
     "name": "stdout",
     "output_type": "stream",
     "text": [
      "[[  0   0   0 ...   0   0 306]\n",
      " [  0   0   0 ...   0 306   3]\n",
      " [  0   0   0 ... 306   3   1]\n",
      " ...\n",
      " [  0   0   0 ... 284   4 302]\n",
      " [  0   0   0 ...   4 302   3]\n",
      " [  0   0   0 ... 302   3   8]] [[0. 0. 0. ... 0. 0. 0.]\n",
      " [0. 1. 0. ... 0. 0. 0.]\n",
      " [0. 0. 0. ... 0. 0. 0.]\n",
      " ...\n",
      " [0. 0. 0. ... 0. 0. 0.]\n",
      " [0. 0. 0. ... 0. 0. 0.]\n",
      " [0. 0. 0. ... 0. 0. 0.]]\n"
     ]
    }
   ],
   "source": [
    "tokenizer = Tokenizer()\n",
    "data = train_eu\n",
    "\n",
    "corpus = data.lower().split(\"\\n\")\n",
    "tokenizer.fit_on_texts(corpus)\n",
    "total_words = len(tokenizer.word_index) + 1\n",
    "# print(total_words)\n",
    "input_sequences = []\n",
    "for line in corpus:\n",
    "    token_list = tokenizer.texts_to_sequences([line])[0]\n",
    "    for i in range(1, len(token_list)):\n",
    "        n_gram_sequence = token_list[:i+1]\n",
    "        input_sequences.append(n_gram_sequence)\n",
    "max_sequence_len = max([len(x) for x in input_sequences])\n",
    "input_sequences = np.array(pad_sequences(input_sequences, maxlen=max_sequence_len, padding='pre'))\n",
    "\n",
    "predictors, label = input_sequences[:,:-1],input_sequences[:,-1]\n",
    "label = np_utils.to_categorical(label, num_classes=total_words)\n",
    "\n",
    "\n"
   ]
  },
  {
   "cell_type": "code",
   "execution_count": null,
   "metadata": {},
   "outputs": [],
   "source": [
    "input_len = max_sequence_len - 1    model = Sequential()\n",
    "model.add(Embedding(total_words, 10, input_length=input_len))\n",
    "model.add(LSTM(150))\n",
    "model.add(Dropout(0.1))\n",
    "model.add(Dense(total_words, activation='softmax'))    model.compile(loss='categorical_crossentropy', optimizer='adam')\n",
    "model.fit(predictors, label, epochs=100, verbose=1)"
   ]
  }
 ],
 "metadata": {
  "interpreter": {
   "hash": "31f2aee4e71d21fbe5cf8b01ff0e069b9275f58929596ceb00d14d90e3e16cd6"
  },
  "kernelspec": {
   "display_name": "Python 3.9.7 64-bit",
   "language": "python",
   "name": "python3"
  },
  "language_info": {
   "codemirror_mode": {
    "name": "ipython",
    "version": 3
   },
   "file_extension": ".py",
   "mimetype": "text/x-python",
   "name": "python",
   "nbconvert_exporter": "python",
   "pygments_lexer": "ipython3",
   "version": "3.9.7"
  },
  "orig_nbformat": 4
 },
 "nbformat": 4,
 "nbformat_minor": 2
}
